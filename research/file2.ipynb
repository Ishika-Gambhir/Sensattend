{
 "cells": [
  {
   "cell_type": "code",
   "execution_count": 1,
   "id": "121127d8",
   "metadata": {},
   "outputs": [
    {
     "name": "stdout",
     "output_type": "stream",
     "text": [
      "WARNING:tensorflow:From c:\\Users\\rio\\AppData\\Local\\Programs\\Python\\Python310\\lib\\site-packages\\tf_keras\\src\\losses.py:2976: The name tf.losses.sparse_softmax_cross_entropy is deprecated. Please use tf.compat.v1.losses.sparse_softmax_cross_entropy instead.\n",
      "\n"
     ]
    }
   ],
   "source": [
    "import cv2\n",
    "from deepface import DeepFace"
   ]
  },
  {
   "cell_type": "code",
   "execution_count": 35,
   "id": "cb1c2018",
   "metadata": {},
   "outputs": [],
   "source": [
    "img1 = cv2.imread('../samples/brad_and_tom.jpg')\n",
    "img2 = cv2.imread('../samples/brad.jpg')\n",
    "img3 = cv2.imread('../samples/karan_auj.jpg')\n",
    "img4 = cv2.imread('../samples/random_2.jpg')\n",
    "img5 = cv2.imread('../samples/brad_and_jennifer.jpg')\n",
    "img6 = cv2.imread('../samples/jagi_ref.jpg')\n",
    "img7 = cv2.imread('../samples/kanav_ref.jpg')\n",
    "img8 = cv2.imread('../samples/kanav_and_jagi.jpg')"
   ]
  },
  {
   "cell_type": "code",
   "execution_count": 42,
   "id": "ee43f3ce",
   "metadata": {},
   "outputs": [],
   "source": [
    "response = DeepFace.verify(\n",
    "    img1_path=img8,\n",
    "    img2_path=img2,\n",
    "    model_name='ArcFace', # can also use VGG-Face\n",
    "    detector_backend='retinaface',\n",
    ")"
   ]
  },
  {
   "cell_type": "code",
   "execution_count": 43,
   "id": "79b44cc1",
   "metadata": {},
   "outputs": [
    {
     "name": "stdout",
     "output_type": "stream",
     "text": [
      "{'verified': False, 'distance': 0.853987, 'threshold': 0.68, 'confidence': 8.11, 'model': 'ArcFace', 'detector_backend': 'retinaface', 'similarity_metric': 'cosine', 'facial_areas': {'img1': {'x': 843, 'y': 738, 'w': 877, 'h': 1099, 'left_eye': (1532, 1206), 'right_eye': (1125, 1177), 'nose': (1352, 1334), 'mouth_left': (1491, 1564), 'mouth_right': (1145, 1542)}, 'img2': {'x': 75, 'y': 60, 'w': 111, 'h': 156, 'left_eye': (153, 118), 'right_eye': (103, 125), 'nose': (130, 149), 'mouth_left': (158, 169), 'mouth_right': (110, 175)}}, 'time': 2.88}\n"
     ]
    }
   ],
   "source": [
    "print(response)"
   ]
  }
 ],
 "metadata": {
  "kernelspec": {
   "display_name": "Python 3",
   "language": "python",
   "name": "python3"
  },
  "language_info": {
   "codemirror_mode": {
    "name": "ipython",
    "version": 3
   },
   "file_extension": ".py",
   "mimetype": "text/x-python",
   "name": "python",
   "nbconvert_exporter": "python",
   "pygments_lexer": "ipython3",
   "version": "3.10.11"
  }
 },
 "nbformat": 4,
 "nbformat_minor": 5
}
